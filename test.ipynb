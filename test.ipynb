
import IPython
camera_code = '''
const div = document.createElement('div');const video = document.createElement('video');video.style.display = 'block';document.body.appendChild(div);div.appendChild(video);navigator.mediaDevices.getUserMedia({ video: true }).then(function (stream){video.srcObject = stream;video.play();});
'''

print("testing here only")
display(IPython.display.Javascript(camera_code))
